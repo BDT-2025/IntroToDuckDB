{
 "cells": [
  {
   "cell_type": "code",
   "execution_count": null,
   "id": "055bda63-1242-46b2-8d6a-822775346948",
   "metadata": {},
   "outputs": [],
   "source": [
    "import duckdb"
   ]
  },
  {
   "cell_type": "code",
   "execution_count": null,
   "id": "b6590b2b-a1e3-478d-8c15-9f58f2e9bd5f",
   "metadata": {},
   "outputs": [],
   "source": [
    "import pandas as pd"
   ]
  },
  {
   "cell_type": "markdown",
   "id": "3ddc3010-76b6-4ec2-8d3f-afa991d6824f",
   "metadata": {},
   "source": [
    "# Basics of  DuckDB"
   ]
  },
  {
   "cell_type": "code",
   "execution_count": null,
   "id": "925c9405-6d72-44e9-9f2a-9c414ac7f21c",
   "metadata": {},
   "outputs": [],
   "source": [
    "con = duckdb.connect()"
   ]
  },
  {
   "cell_type": "code",
   "execution_count": null,
   "id": "d93fbdfa-c951-49bb-b556-2d49579df7d4",
   "metadata": {},
   "outputs": [],
   "source": [
    "con.execute(\"CREATE TABLE users (id INTEGER, name TEXT, age INTEGER)\")"
   ]
  },
  {
   "cell_type": "code",
   "execution_count": null,
   "id": "f25a7dc5-3ed1-4cfd-ac19-2a3dc161f0ec",
   "metadata": {},
   "outputs": [],
   "source": [
    "con.execute(\"INSERT INTO users VALUES (1, 'Alice', 25), (2, 'Bob', 30)\")"
   ]
  },
  {
   "cell_type": "code",
   "execution_count": null,
   "id": "2e32891e-4c0c-4951-b607-5b380637fa82",
   "metadata": {},
   "outputs": [],
   "source": [
    "result = con.execute(\"SELECT * FROM users\").fetchall()\n",
    "print(result)"
   ]
  },
  {
   "cell_type": "code",
   "execution_count": null,
   "id": "307bcd83-73da-4ada-9154-21bbfe67a461",
   "metadata": {},
   "outputs": [],
   "source": []
  },
  {
   "cell_type": "markdown",
   "id": "aa11d7b4-f5ef-4aee-9089-d047020ed6b3",
   "metadata": {},
   "source": [
    "# Reading data from files"
   ]
  },
  {
   "cell_type": "code",
   "execution_count": null,
   "id": "013cc23e-16d9-4149-81a9-5cb5a62898f9",
   "metadata": {},
   "outputs": [],
   "source": [
    "data = con.execute(\"SELECT * FROM 'sales.csv' LIMIT 10\").fetchall()\n",
    "data"
   ]
  },
  {
   "cell_type": "code",
   "execution_count": null,
   "id": "0a92b88e-5bda-44a5-9d09-9f3cfc866438",
   "metadata": {},
   "outputs": [],
   "source": [
    "df = con.execute(\"SELECT * FROM 'sales.csv' INNER JOIN users on users.id == sales.product_id\").df()\n",
    "df"
   ]
  },
  {
   "cell_type": "code",
   "execution_count": null,
   "id": "a819050d-8b37-40f4-b691-46dadb72ab23",
   "metadata": {},
   "outputs": [],
   "source": [
    "type(df)"
   ]
  },
  {
   "cell_type": "code",
   "execution_count": null,
   "id": "5bc7d3c1-b519-451c-b48c-7ebaf8d050ad",
   "metadata": {},
   "outputs": [],
   "source": [
    "con.execute(\"SELECT quantity FROM df\").df()"
   ]
  },
  {
   "cell_type": "code",
   "execution_count": null,
   "id": "596ede11-c686-47b6-92e5-54c6de25e372",
   "metadata": {},
   "outputs": [],
   "source": [
    "con.execute(\"SELECT * FROM 'sales.csv'\").fetchone()"
   ]
  },
  {
   "cell_type": "code",
   "execution_count": null,
   "id": "4104bdfd-9173-4cec-935d-8d22ad0daa13",
   "metadata": {},
   "outputs": [],
   "source": [
    "con.execute(\"CREATE TABLE sales (product_id INTEGER, quantity TEXT, price FLOAT, dt DATETIME)\")"
   ]
  },
  {
   "cell_type": "code",
   "execution_count": null,
   "id": "8b4db0a1-dc97-4f89-a954-29a2dcda460b",
   "metadata": {},
   "outputs": [],
   "source": [
    "con.execute(\"SELECT * FROM sales\").df()"
   ]
  },
  {
   "cell_type": "code",
   "execution_count": null,
   "id": "072b4e5f-fd9c-4324-8489-bc10a2f348e1",
   "metadata": {},
   "outputs": [],
   "source": [
    "con.execute(\"COPY sales from 'sales.csv'\")"
   ]
  },
  {
   "cell_type": "code",
   "execution_count": null,
   "id": "99194cb9-8d7e-4abf-8645-21f5d70414a0",
   "metadata": {},
   "outputs": [],
   "source": [
    "con.execute(\"SELECT * FROM sales\").df()"
   ]
  },
  {
   "cell_type": "code",
   "execution_count": null,
   "id": "e8ffaa76-1424-4c5e-b827-c60d2f01c358",
   "metadata": {},
   "outputs": [],
   "source": []
  }
 ],
 "metadata": {
  "kernelspec": {
   "display_name": "Python 3 (ipykernel)",
   "language": "python",
   "name": "python3"
  },
  "language_info": {
   "codemirror_mode": {
    "name": "ipython",
    "version": 3
   },
   "file_extension": ".py",
   "mimetype": "text/x-python",
   "name": "python",
   "nbconvert_exporter": "python",
   "pygments_lexer": "ipython3",
   "version": "3.11.7"
  }
 },
 "nbformat": 4,
 "nbformat_minor": 5
}
